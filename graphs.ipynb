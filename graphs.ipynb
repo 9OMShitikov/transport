{
 "cells": [
  {
   "cell_type": "code",
   "execution_count": 1,
   "metadata": {},
   "outputs": [],
   "source": [
    "import graph_flow\n",
    "import matplotlib.pyplot as plt\n",
    "import matplotlib as mpl\n",
    "import networkx as nx\n",
    "import ipywidgets\n",
    "import IPython"
   ]
  },
  {
   "cell_type": "code",
   "execution_count": 3,
   "metadata": {},
   "outputs": [],
   "source": [
    "N = 4\n",
    "edges = [\n",
    "    (0, 1, 90, 10),\n",
    "    (0, 2, 100, 1),\n",
    "    (1, 3, 110, 3),\n",
    "    (2, 1, 130, 2),\n",
    "    (2, 3, 140, 11)\n",
    "]\n",
    "g = graph_flow.Graph(N, edges)\n",
    "G = nx.MultiDiGraph()\n",
    "G.add_weighted_edges_from([(edge[0]+1, edge[1]+1, edge[3]) for edge in edges])"
   ]
  },
  {
   "cell_type": "code",
   "execution_count": 10,
   "metadata": {},
   "outputs": [],
   "source": [
    "def show_flow(g: graph_flow.Graph, u: int, v: int, d: float):\n",
    "    g.delete_flow()\n",
    "    g.set_flow([(u, v, d)])\n",
    "    found, cost, edges_flow = g.calculate_flow()\n",
    "    EPS = 1e-9\n",
    "    cmap = mpl.colormaps['inferno']\n",
    "    edges_color = [1-max(edges_flow[i][0] / edge[2], 0) for i, edge in enumerate(edges)]\n",
    "    pos = nx.spring_layout(G, seed=63)\n",
    "    options = {\n",
    "        \"edge_color\": edges_color,\n",
    "        \"edge_cmap\": cmap,\n",
    "        \"edge_vmin\": 0,\n",
    "        \"edge_vmax\": 1.\n",
    "    }\n",
    "    nx.draw_networkx(G, pos, **options)\n",
    "    plt.show()"
   ]
  },
  {
   "cell_type": "code",
   "execution_count": 11,
   "metadata": {},
   "outputs": [
    {
     "data": {
      "application/vnd.jupyter.widget-view+json": {
       "model_id": "2a35cd55f2e444dfb3bf10fb11719aab",
       "version_major": 2,
       "version_minor": 0
      },
      "text/plain": [
       "interactive(children=(FloatSlider(value=0.0, description='w', max=190.0), Output()), _dom_classes=('widget-int…"
      ]
     },
     "metadata": {},
     "output_type": "display_data"
    },
    {
     "data": {
      "text/plain": [
       "<function __main__.update(w=0)>"
      ]
     },
     "execution_count": 11,
     "metadata": {},
     "output_type": "execute_result"
    }
   ],
   "source": [
    "def update(w=0):\n",
    "    show_flow(g, 0, 3, w)\n",
    "ipywidgets.interact(update, w=(0.0, 190.0, 0.1))\n",
    "   "
   ]
  },
  {
   "cell_type": "code",
   "execution_count": 12,
   "metadata": {},
   "outputs": [],
   "source": [
    "g.delete_flow()\n",
    "g.set_flow([(0, 3, 120)])\n",
    "g.calculate_flow()\n",
    "g.block_edge(g.find_braess()[0])"
   ]
  },
  {
   "cell_type": "code",
   "execution_count": 13,
   "metadata": {},
   "outputs": [
    {
     "data": {
      "application/vnd.jupyter.widget-view+json": {
       "model_id": "f905c327f30347b9a5f3b927d77935cb",
       "version_major": 2,
       "version_minor": 0
      },
      "text/plain": [
       "interactive(children=(FloatSlider(value=0.0, description='w', max=190.0), Output()), _dom_classes=('widget-int…"
      ]
     },
     "metadata": {},
     "output_type": "display_data"
    },
    {
     "data": {
      "text/plain": [
       "<function __main__.update(w=0)>"
      ]
     },
     "execution_count": 13,
     "metadata": {},
     "output_type": "execute_result"
    }
   ],
   "source": [
    "ipywidgets.interact(update, w=(0.0, 190.0, 0.1))"
   ]
  },
  {
   "cell_type": "code",
   "execution_count": null,
   "metadata": {},
   "outputs": [],
   "source": []
  }
 ],
 "metadata": {
  "kernelspec": {
   "display_name": "Python 3 (ipykernel)",
   "language": "python",
   "name": "python3"
  },
  "language_info": {
   "codemirror_mode": {
    "name": "ipython",
    "version": 3
   },
   "file_extension": ".py",
   "mimetype": "text/x-python",
   "name": "python",
   "nbconvert_exporter": "python",
   "pygments_lexer": "ipython3",
   "version": "3.11.6"
  }
 },
 "nbformat": 4,
 "nbformat_minor": 4
}
